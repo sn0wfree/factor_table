{
 "cells": [
  {
   "cell_type": "code",
   "execution_count": 1,
   "id": "2b9f39df-495d-4921-b67e-7ce7a13d6237",
   "metadata": {},
   "outputs": [],
   "source": [
    "import sys\n",
    "import pandas as pd\n",
    "sys.path.append('C:\\\\Users\\\\user\\\\Documents\\\\GitHub\\\\factor_table')\n",
    "\n",
    "\n",
    "from factor_table.core import FactorCreator, FactorTable\n",
    "from factor_table.utils.file_cache import file_cache"
   ]
  },
  {
   "cell_type": "code",
   "execution_count": 2,
   "id": "dc928765-bc49-4e4b-8368-9fde26562ba8",
   "metadata": {},
   "outputs": [],
   "source": [
    "def temp_load_data(path, key, stk='stklist', dt='trade_dt'):\n",
    "    cp = pd.read_hdf(path, key)\n",
    "    stklist = pd.read_hdf(path, stk)\n",
    "    trade_dt = pd.read_hdf(path, dt)\n",
    "\n",
    "    cp.index = pd.to_datetime(trade_dt.astype(str).values.ravel())\n",
    "    cp.index.name = dt\n",
    "    cp.columns = stklist.values.ravel()\n",
    "    cp.columns.name = stk\n",
    "    cp = cp.stack().reset_index()\n",
    "    cp.columns = [dt, stk, key]\n",
    "    return cp"
   ]
  },
  {
   "cell_type": "code",
   "execution_count": 3,
   "id": "f110a398-d379-4ce5-8260-b9e37b18765d",
   "metadata": {
    "tags": []
   },
   "outputs": [
    {
     "name": "stdout",
     "output_type": "stream",
     "text": [
      "['/amt', '/cp', '/hp', '/id_300', '/id_50', '/id_500', '/id_citic1', '/id_citic1A', '/ind_code_CITIC_1', '/ind_code_CITIC_1A', '/ind_name_CITIC_1', '/ind_name_CITIC_1A', '/ipo_date', '/ipo_days', '/lp', '/mv_float', '/op', '/st', '/stklist', '/stkname', '/suspend', '/tmv', '/trade_dt', '/ud_limit', '/vol', '/weight_300', '/weight_50', '/weight_500']\n"
     ]
    }
   ],
   "source": [
    "path='./stk_daily.h5'\n",
    "\n",
    "# cik_ids= ['100025.OF','000645.OF']\n",
    "with pd.HDFStore(path,mode='r') as  f:\n",
    "    print(f.keys())"
   ]
  },
  {
   "cell_type": "code",
   "execution_count": 4,
   "id": "e344f976",
   "metadata": {},
   "outputs": [
    {
     "name": "stdout",
     "output_type": "stream",
     "text": [
      "<class 'pandas.core.frame.DataFrame'>\n",
      "RangeIndex: 8328384 entries, 0 to 8328383\n",
      "Data columns (total 3 columns):\n",
      " #   Column    Dtype         \n",
      "---  ------    -----         \n",
      " 0   trade_dt  datetime64[ns]\n",
      " 1   stklist   object        \n",
      " 2   cp        float64       \n",
      "dtypes: datetime64[ns](1), float64(1), object(1)\n",
      "memory usage: 190.6+ MB\n"
     ]
    }
   ],
   "source": [
    "cp2 = temp_load_data(path, 'cp')\n",
    "cp2.info()"
   ]
  },
  {
   "cell_type": "code",
   "execution_count": 5,
   "id": "1ffa8438-bdba-46a6-b97f-93b4b539ee58",
   "metadata": {},
   "outputs": [
    {
     "name": "stdout",
     "output_type": "stream",
     "text": [
      "2022-03-17 16:10:47,932 INFO    : start to execute __FactorTable__.save! timer start! \n",
      "2022-03-17 16:11:35,140 INFO    : start to execute __FactorTable__.fetch! timer start! \n",
      "2022-03-17 16:12:24,538 INFO    : __FactorTable__.fetch executed! spend: 49.39795184135437\n",
      "2022-03-17 16:12:24,547 INFO    : start to execute Factor._df_get_! timer start! \n",
      "2022-03-17 16:12:25,374 INFO    : Factor._df_get_ executed! spend: 0.8275787830352783\n"
     ]
    },
    {
     "name": "stderr",
     "output_type": "stream",
     "text": [
      "C:\\Users\\user\\anaconda3\\lib\\site-packages\\tables\\path.py:155: NaturalNameWarning: object name is not a valid Python identifier: 'cp@20050104_20190821'; it does not match the pattern ``^[a-zA-Z_][a-zA-Z0-9_]*$``; you will not be able to use natural naming to access this object; using ``getattr()`` will still work, though\n",
      "  check_attribute_name(name)\n"
     ]
    },
    {
     "name": "stdout",
     "output_type": "stream",
     "text": [
      "0%|                    |read 0 projects|Speed : 3.8815 |ETA: 2022-03-17 16:12:32.310256 2022-03-17 16:12:28,524 INFO    : __FactorTable__.save executed! spend: 100.59293985366821\n"
     ]
    }
   ],
   "source": [
    "ft = FactorTable()\n",
    "ft.add_factor('cp', cp2, cik_dt='trade_dt', cik_id='stklist', factor_names=['cp'], db_type='H5')\n",
    "\n",
    "ft.save('./cp.h5')"
   ]
  },
  {
   "cell_type": "code",
   "execution_count": 6,
   "id": "1914b18b",
   "metadata": {},
   "outputs": [],
   "source": [
    "ft2 = FactorTable()\n",
    "\n",
    "ft2.load('./cp.h5', cik_cols=['trade_dt', 'stklist'])"
   ]
  },
  {
   "cell_type": "code",
   "execution_count": 10,
   "id": "1afa1b4c",
   "metadata": {},
   "outputs": [
    {
     "data": {
      "text/html": [
       "<div>\n",
       "<style scoped>\n",
       "    .dataframe tbody tr th:only-of-type {\n",
       "        vertical-align: middle;\n",
       "    }\n",
       "\n",
       "    .dataframe tbody tr th {\n",
       "        vertical-align: top;\n",
       "    }\n",
       "\n",
       "    .dataframe thead th {\n",
       "        text-align: right;\n",
       "    }\n",
       "</style>\n",
       "<table border=\"1\" class=\"dataframe\">\n",
       "  <thead>\n",
       "    <tr style=\"text-align: right;\">\n",
       "      <th></th>\n",
       "    </tr>\n",
       "  </thead>\n",
       "  <tbody>\n",
       "  </tbody>\n",
       "</table>\n",
       "</div>"
      ],
      "text/plain": [
       "Empty DataFrame\n",
       "Columns: []\n",
       "Index: []"
      ]
     },
     "execution_count": 10,
     "metadata": {},
     "output_type": "execute_result"
    }
   ],
   "source": [
    "ft2.show_factors()"
   ]
  },
  {
   "cell_type": "code",
   "execution_count": 11,
   "id": "f2e6e890",
   "metadata": {},
   "outputs": [
    {
     "name": "stdout",
     "output_type": "stream",
     "text": [
      "2022-03-17 16:14:21,261 INFO    : start to execute __FactorTable__.fetch! timer start! \n",
      "2022-03-17 16:14:24,351 INFO    : __FactorTable__.fetch executed! spend: 3.089949607849121\n"
     ]
    }
   ],
   "source": [
    "fetched = ft.fetch(cik_dts=['20190821', '20180830'], cik_ids=['688321.SH'], skip_cache=False, delay=False)"
   ]
  },
  {
   "cell_type": "code",
   "execution_count": 12,
   "id": "7f93537e",
   "metadata": {},
   "outputs": [
    {
     "name": "stdout",
     "output_type": "stream",
     "text": [
      "2022-03-17 16:14:34,247 INFO    : start to execute __FactorTable__.fetch! timer start! \n"
     ]
    },
    {
     "ename": "ValueError",
     "evalue": "No objects to concatenate",
     "output_type": "error",
     "traceback": [
      "\u001B[1;31m---------------------------------------------------------------------------\u001B[0m",
      "\u001B[1;31mValueError\u001B[0m                                Traceback (most recent call last)",
      "\u001B[1;32m<ipython-input-12-e03715db60b7>\u001B[0m in \u001B[0;36m<module>\u001B[1;34m\u001B[0m\n\u001B[1;32m----> 1\u001B[1;33m \u001B[0mfetched2\u001B[0m \u001B[1;33m=\u001B[0m \u001B[0mft2\u001B[0m\u001B[1;33m.\u001B[0m\u001B[0mfetch\u001B[0m\u001B[1;33m(\u001B[0m\u001B[0mcik_dts\u001B[0m\u001B[1;33m=\u001B[0m\u001B[1;33m[\u001B[0m\u001B[1;34m'20190821'\u001B[0m\u001B[1;33m,\u001B[0m \u001B[1;34m'20180830'\u001B[0m\u001B[1;33m]\u001B[0m\u001B[1;33m,\u001B[0m \u001B[0mcik_ids\u001B[0m\u001B[1;33m=\u001B[0m\u001B[1;33m[\u001B[0m\u001B[1;34m'688321.SH'\u001B[0m\u001B[1;33m]\u001B[0m\u001B[1;33m,\u001B[0m \u001B[0mskip_cache\u001B[0m\u001B[1;33m=\u001B[0m\u001B[1;32mFalse\u001B[0m\u001B[1;33m,\u001B[0m \u001B[0mdelay\u001B[0m\u001B[1;33m=\u001B[0m\u001B[1;32mFalse\u001B[0m\u001B[1;33m)\u001B[0m\u001B[1;33m\u001B[0m\u001B[1;33m\u001B[0m\u001B[0m\n\u001B[0m",
      "\u001B[1;32m~\\Documents\\GitHub\\factor_table\\factor_table\\utils\\logger.py\u001B[0m in \u001B[0;36mwrapper\u001B[1;34m(*args, **kwargs)\u001B[0m\n\u001B[0;32m     64\u001B[0m                     \u001B[0mstart\u001B[0m \u001B[1;33m=\u001B[0m \u001B[1;36m0\u001B[0m\u001B[1;33m\u001B[0m\u001B[1;33m\u001B[0m\u001B[0m\n\u001B[0;32m     65\u001B[0m                     \u001B[0mlog_print_func\u001B[0m\u001B[1;33m(\u001B[0m\u001B[1;34mf'start to execute {extra_name}{func.__name__}!'\u001B[0m\u001B[1;33m)\u001B[0m\u001B[1;33m\u001B[0m\u001B[1;33m\u001B[0m\u001B[0m\n\u001B[1;32m---> 66\u001B[1;33m                 \u001B[0mres\u001B[0m \u001B[1;33m=\u001B[0m \u001B[0mfunc\u001B[0m\u001B[1;33m(\u001B[0m\u001B[1;33m*\u001B[0m\u001B[0margs\u001B[0m\u001B[1;33m,\u001B[0m \u001B[1;33m**\u001B[0m\u001B[0mkwargs\u001B[0m\u001B[1;33m)\u001B[0m\u001B[1;33m\u001B[0m\u001B[1;33m\u001B[0m\u001B[0m\n\u001B[0m\u001B[0;32m     67\u001B[0m                 \u001B[1;31m# log_print_func = globals().get('Logger', None)\u001B[0m\u001B[1;33m\u001B[0m\u001B[1;33m\u001B[0m\u001B[1;33m\u001B[0m\u001B[0m\n\u001B[0;32m     68\u001B[0m                 \u001B[1;32mif\u001B[0m \u001B[0mtimer\u001B[0m\u001B[1;33m:\u001B[0m\u001B[1;33m\u001B[0m\u001B[1;33m\u001B[0m\u001B[0m\n",
      "\u001B[1;32m~\\Documents\\GitHub\\factor_table\\factor_table\\core\\factortable.py\u001B[0m in \u001B[0;36mfetch\u001B[1;34m(self, cik_dts, cik_ids, show_process, delay, skip_cache, **kwargs)\u001B[0m\n\u001B[0;32m    191\u001B[0m                                             add_limit=False, show_process=show_process, skip_cache=skip_cache)\n\u001B[0;32m    192\u001B[0m \u001B[1;33m\u001B[0m\u001B[0m\n\u001B[1;32m--> 193\u001B[1;33m         \u001B[1;32mreturn\u001B[0m \u001B[0mfetched\u001B[0m \u001B[1;32mif\u001B[0m \u001B[0mdelay\u001B[0m \u001B[1;32melse\u001B[0m \u001B[0mpd\u001B[0m\u001B[1;33m.\u001B[0m\u001B[0mconcat\u001B[0m\u001B[1;33m(\u001B[0m\u001B[0mfetched\u001B[0m\u001B[1;33m,\u001B[0m \u001B[0maxis\u001B[0m\u001B[1;33m=\u001B[0m\u001B[1;36m1\u001B[0m\u001B[1;33m)\u001B[0m\u001B[1;33m.\u001B[0m\u001B[0mdrop_duplicates\u001B[0m\u001B[1;33m(\u001B[0m\u001B[1;33m)\u001B[0m\u001B[1;33m\u001B[0m\u001B[1;33m\u001B[0m\u001B[0m\n\u001B[0m\u001B[0;32m    194\u001B[0m \u001B[1;33m\u001B[0m\u001B[0m\n\u001B[0;32m    195\u001B[0m     \u001B[1;33m@\u001B[0m\u001B[0mLogger\u001B[0m\u001B[1;33m.\u001B[0m\u001B[0mdeco\u001B[0m\u001B[1;33m(\u001B[0m\u001B[0mlevel\u001B[0m\u001B[1;33m=\u001B[0m\u001B[1;34m'info'\u001B[0m\u001B[1;33m,\u001B[0m \u001B[0mtimer\u001B[0m\u001B[1;33m=\u001B[0m\u001B[1;32mTrue\u001B[0m\u001B[1;33m,\u001B[0m \u001B[0mextra_name\u001B[0m\u001B[1;33m=\u001B[0m\u001B[1;34m'__FactorTable__'\u001B[0m\u001B[1;33m)\u001B[0m\u001B[1;33m\u001B[0m\u001B[1;33m\u001B[0m\u001B[0m\n",
      "\u001B[1;32m~\\anaconda3\\lib\\site-packages\\pandas\\core\\reshape\\concat.py\u001B[0m in \u001B[0;36mconcat\u001B[1;34m(objs, axis, join, ignore_index, keys, levels, names, verify_integrity, sort, copy)\u001B[0m\n\u001B[0;32m    283\u001B[0m     \u001B[0mValueError\u001B[0m\u001B[1;33m:\u001B[0m \u001B[0mIndexes\u001B[0m \u001B[0mhave\u001B[0m \u001B[0moverlapping\u001B[0m \u001B[0mvalues\u001B[0m\u001B[1;33m:\u001B[0m \u001B[1;33m[\u001B[0m\u001B[1;34m'a'\u001B[0m\u001B[1;33m]\u001B[0m\u001B[1;33m\u001B[0m\u001B[1;33m\u001B[0m\u001B[0m\n\u001B[0;32m    284\u001B[0m     \"\"\"\n\u001B[1;32m--> 285\u001B[1;33m     op = _Concatenator(\n\u001B[0m\u001B[0;32m    286\u001B[0m         \u001B[0mobjs\u001B[0m\u001B[1;33m,\u001B[0m\u001B[1;33m\u001B[0m\u001B[1;33m\u001B[0m\u001B[0m\n\u001B[0;32m    287\u001B[0m         \u001B[0maxis\u001B[0m\u001B[1;33m=\u001B[0m\u001B[0maxis\u001B[0m\u001B[1;33m,\u001B[0m\u001B[1;33m\u001B[0m\u001B[1;33m\u001B[0m\u001B[0m\n",
      "\u001B[1;32m~\\anaconda3\\lib\\site-packages\\pandas\\core\\reshape\\concat.py\u001B[0m in \u001B[0;36m__init__\u001B[1;34m(self, objs, axis, join, keys, levels, names, ignore_index, verify_integrity, copy, sort)\u001B[0m\n\u001B[0;32m    340\u001B[0m \u001B[1;33m\u001B[0m\u001B[0m\n\u001B[0;32m    341\u001B[0m         \u001B[1;32mif\u001B[0m \u001B[0mlen\u001B[0m\u001B[1;33m(\u001B[0m\u001B[0mobjs\u001B[0m\u001B[1;33m)\u001B[0m \u001B[1;33m==\u001B[0m \u001B[1;36m0\u001B[0m\u001B[1;33m:\u001B[0m\u001B[1;33m\u001B[0m\u001B[1;33m\u001B[0m\u001B[0m\n\u001B[1;32m--> 342\u001B[1;33m             \u001B[1;32mraise\u001B[0m \u001B[0mValueError\u001B[0m\u001B[1;33m(\u001B[0m\u001B[1;34m\"No objects to concatenate\"\u001B[0m\u001B[1;33m)\u001B[0m\u001B[1;33m\u001B[0m\u001B[1;33m\u001B[0m\u001B[0m\n\u001B[0m\u001B[0;32m    343\u001B[0m \u001B[1;33m\u001B[0m\u001B[0m\n\u001B[0;32m    344\u001B[0m         \u001B[1;32mif\u001B[0m \u001B[0mkeys\u001B[0m \u001B[1;32mis\u001B[0m \u001B[1;32mNone\u001B[0m\u001B[1;33m:\u001B[0m\u001B[1;33m\u001B[0m\u001B[1;33m\u001B[0m\u001B[0m\n",
      "\u001B[1;31mValueError\u001B[0m: No objects to concatenate"
     ]
    }
   ],
   "source": [
    "fetched2 = ft2.fetch(cik_dts=['20190821', '20180830'], cik_ids=['688321.SH'], skip_cache=False, delay=False)"
   ]
  },
  {
   "cell_type": "code",
   "execution_count": null,
   "id": "65e05ac3",
   "metadata": {},
   "outputs": [],
   "source": []
  }
 ],
 "metadata": {
  "kernelspec": {
   "display_name": "Python 3",
   "language": "python",
   "name": "python3"
  },
  "language_info": {
   "codemirror_mode": {
    "name": "ipython",
    "version": 3
   },
   "file_extension": ".py",
   "mimetype": "text/x-python",
   "name": "python",
   "nbconvert_exporter": "python",
   "pygments_lexer": "ipython3",
   "version": "3.8.8"
  }
 },
 "nbformat": 4,
 "nbformat_minor": 5
}